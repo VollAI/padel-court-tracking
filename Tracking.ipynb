{
  "nbformat": 4,
  "nbformat_minor": 0,
  "metadata": {
    "colab": {
      "provenance": [],
      "include_colab_link": true
    },
    "kernelspec": {
      "name": "python3",
      "display_name": "Python 3"
    },
    "language_info": {
      "name": "python"
    },
    "accelerator": "GPU",
    "gpuClass": "standard"
  },
  "cells": [
    {
      "cell_type": "markdown",
      "metadata": {
        "id": "view-in-github",
        "colab_type": "text"
      },
      "source": [
        "<a href=\"https://colab.research.google.com/github/VollAI/padel-court-tracking/blob/master/Tracking.ipynb\" target=\"_parent\"><img src=\"https://colab.research.google.com/assets/colab-badge.svg\" alt=\"Open In Colab\"/></a>"
      ]
    },
    {
      "cell_type": "code",
      "execution_count": null,
      "metadata": {
        "colab": {
          "base_uri": "https://localhost:8080/",
          "height": 1000
        },
        "id": "OsGbENWqWuoL",
        "outputId": "4a733033-569f-4f46-8766-5a1b25b78608"
      },
      "outputs": [
        {
          "output_type": "stream",
          "name": "stdout",
          "text": [
            "Looking in indexes: https://pypi.org/simple, https://us-python.pkg.dev/colab-wheels/public/simple/\n",
            "Collecting nebullvm\n",
            "  Downloading nebullvm-0.4.4-py3-none-any.whl (172 kB)\n",
            "\u001b[K     |████████████████████████████████| 172 kB 34.4 MB/s \n",
            "\u001b[?25hCollecting onnx>=1.10.0\n",
            "  Downloading onnx-1.12.0-cp37-cp37m-manylinux_2_17_x86_64.manylinux2014_x86_64.whl (13.1 MB)\n",
            "\u001b[K     |████████████████████████████████| 13.1 MB 52.4 MB/s \n",
            "\u001b[?25hRequirement already satisfied: tqdm>=4.63.0 in /usr/local/lib/python3.7/dist-packages (from nebullvm) (4.64.1)\n",
            "Requirement already satisfied: torch>=1.10.0 in /usr/local/lib/python3.7/dist-packages (from nebullvm) (1.12.1+cu113)\n",
            "Collecting psutil>=5.9.0\n",
            "  Downloading psutil-5.9.3-cp37-cp37m-manylinux_2_12_x86_64.manylinux2010_x86_64.manylinux_2_17_x86_64.manylinux2014_x86_64.whl (291 kB)\n",
            "\u001b[K     |████████████████████████████████| 291 kB 68.6 MB/s \n",
            "\u001b[?25hRequirement already satisfied: PyYAML>=6.0 in /usr/local/lib/python3.7/dist-packages (from nebullvm) (6.0)\n",
            "Collecting py-cpuinfo>=8.0.0\n",
            "  Downloading py_cpuinfo-9.0.0-py3-none-any.whl (22 kB)\n",
            "Requirement already satisfied: numpy<1.23.0,>=1.20.0 in /usr/local/lib/python3.7/dist-packages (from nebullvm) (1.21.6)\n",
            "Collecting requests>=2.28.1\n",
            "  Downloading requests-2.28.1-py3-none-any.whl (62 kB)\n",
            "\u001b[K     |████████████████████████████████| 62 kB 1.6 MB/s \n",
            "\u001b[?25hCollecting onnxmltools>=1.11.0\n",
            "  Downloading onnxmltools-1.11.1-py3-none-any.whl (308 kB)\n",
            "\u001b[K     |████████████████████████████████| 308 kB 69.6 MB/s \n",
            "\u001b[?25hRequirement already satisfied: packaging>=21.3 in /usr/local/lib/python3.7/dist-packages (from nebullvm) (21.3)\n",
            "Requirement already satisfied: protobuf<=3.20.1,>=3.12.2 in /usr/local/lib/python3.7/dist-packages (from onnx>=1.10.0->nebullvm) (3.17.3)\n",
            "Requirement already satisfied: typing-extensions>=3.6.2.1 in /usr/local/lib/python3.7/dist-packages (from onnx>=1.10.0->nebullvm) (4.1.1)\n",
            "Collecting skl2onnx\n",
            "  Downloading skl2onnx-1.13-py2.py3-none-any.whl (288 kB)\n",
            "\u001b[K     |████████████████████████████████| 288 kB 9.3 MB/s \n",
            "\u001b[?25hRequirement already satisfied: pyparsing!=3.0.5,>=2.0.2 in /usr/local/lib/python3.7/dist-packages (from packaging>=21.3->nebullvm) (3.0.9)\n",
            "Requirement already satisfied: six>=1.9 in /usr/local/lib/python3.7/dist-packages (from protobuf<=3.20.1,>=3.12.2->onnx>=1.10.0->nebullvm) (1.15.0)\n",
            "Requirement already satisfied: idna<4,>=2.5 in /usr/local/lib/python3.7/dist-packages (from requests>=2.28.1->nebullvm) (2.10)\n",
            "Requirement already satisfied: charset-normalizer<3,>=2 in /usr/local/lib/python3.7/dist-packages (from requests>=2.28.1->nebullvm) (2.1.1)\n",
            "Requirement already satisfied: urllib3<1.27,>=1.21.1 in /usr/local/lib/python3.7/dist-packages (from requests>=2.28.1->nebullvm) (1.24.3)\n",
            "Requirement already satisfied: certifi>=2017.4.17 in /usr/local/lib/python3.7/dist-packages (from requests>=2.28.1->nebullvm) (2022.9.24)\n",
            "Requirement already satisfied: scikit-learn<=1.1.1 in /usr/local/lib/python3.7/dist-packages (from skl2onnx->onnxmltools>=1.11.0->nebullvm) (1.0.2)\n",
            "Collecting onnxconverter-common>=1.7.0\n",
            "  Downloading onnxconverter_common-1.12.2-py2.py3-none-any.whl (83 kB)\n",
            "\u001b[K     |████████████████████████████████| 83 kB 2.4 MB/s \n",
            "\u001b[?25hRequirement already satisfied: scipy>=1.0 in /usr/local/lib/python3.7/dist-packages (from skl2onnx->onnxmltools>=1.11.0->nebullvm) (1.7.3)\n",
            "Requirement already satisfied: joblib>=0.11 in /usr/local/lib/python3.7/dist-packages (from scikit-learn<=1.1.1->skl2onnx->onnxmltools>=1.11.0->nebullvm) (1.2.0)\n",
            "Requirement already satisfied: threadpoolctl>=2.0.0 in /usr/local/lib/python3.7/dist-packages (from scikit-learn<=1.1.1->skl2onnx->onnxmltools>=1.11.0->nebullvm) (3.1.0)\n",
            "Installing collected packages: onnx, onnxconverter-common, skl2onnx, requests, py-cpuinfo, psutil, onnxmltools, nebullvm\n",
            "  Attempting uninstall: requests\n",
            "    Found existing installation: requests 2.23.0\n",
            "    Uninstalling requests-2.23.0:\n",
            "      Successfully uninstalled requests-2.23.0\n",
            "  Attempting uninstall: psutil\n",
            "    Found existing installation: psutil 5.4.8\n",
            "    Uninstalling psutil-5.4.8:\n",
            "      Successfully uninstalled psutil-5.4.8\n",
            "Successfully installed nebullvm-0.4.4 onnx-1.12.0 onnxconverter-common-1.12.2 onnxmltools-1.11.1 psutil-5.9.3 py-cpuinfo-9.0.0 requests-2.28.1 skl2onnx-1.13\n"
          ]
        },
        {
          "output_type": "display_data",
          "data": {
            "application/vnd.colab-display-data+json": {
              "pip_warning": {
                "packages": [
                  "psutil"
                ]
              }
            }
          },
          "metadata": {}
        },
        {
          "output_type": "stream",
          "name": "stderr",
          "text": [
            "/usr/local/lib/python3.7/dist-packages/nebullvm/utils/optional_modules.py:48: UserWarning: tf2onnx module is not installed on this platform. Trying to install it.\n",
            "  \"tf2onnx module is not installed on this platform. \"\n",
            "/usr/local/lib/python3.7/dist-packages/nebullvm/inference_learners/onnx.py:44: UserWarning: No valid onnxruntime installation found. Trying to install it...\n",
            "  \"No valid onnxruntime installation found. Trying to install it...\"\n",
            "/usr/local/lib/python3.7/dist-packages/nebullvm/inference_learners/openvino.py:39: UserWarning: No valid OpenVino installation has been found. Trying to re-install it from source.\n",
            "  \"No valid OpenVino installation has been found. \"\n",
            "/usr/local/lib/python3.7/dist-packages/nebullvm/inference_learners/tensor_rt.py:33: UserWarning: No TensorRT valid installation has been found. Trying to install it from source.\n",
            "  \"No TensorRT valid installation has been found. \"\n",
            "/usr/local/lib/python3.7/dist-packages/nebullvm/inference_learners/tvm.py:50: UserWarning: Not found any valid tvm installation. TVM will not be available in the following steps.\n",
            "  \"Not found any valid tvm installation. \"\n",
            "/usr/local/lib/python3.7/dist-packages/nebullvm/optimizers/blade_disc.py:43: UserWarning: No BladeDISC library detected. The BladeDISC Inference learner should not be used.\n",
            "  \"No BladeDISC library detected. \"\n",
            "/usr/local/lib/python3.7/dist-packages/nebullvm/inference_learners/deepsparse.py:33: UserWarning: No deepsparse installation found. Trying to install it...\n",
            "  \"No deepsparse installation found. Trying to install it...\"\n",
            "/usr/local/lib/python3.7/dist-packages/nebullvm/inference_learners/neural_compressor.py:35: UserWarning: No intel neural compressor installation found. Trying to install it...\n",
            "  \"No intel neural compressor installation found. \"\n",
            "2022-10-27 16:56:19 [INFO] Generating grammar tables from /usr/lib/python3.7/lib2to3/Grammar.txt\n",
            "2022-10-27 16:56:19 [INFO] Generating grammar tables from /usr/lib/python3.7/lib2to3/PatternGrammar.txt\n",
            "/usr/local/lib/python3.7/dist-packages/skimage/io/manage_plugins.py:23: UserWarning: Your installed pillow version is < 8.1.2. Several security issues (CVE-2021-27921, CVE-2021-25290, CVE-2021-25291, CVE-2021-25293, and more) have been fixed in pillow 8.1.2 or higher. We recommend to upgrade this library.\n",
            "  from .collection import imread_collection_wrapper\n"
          ]
        },
        {
          "output_type": "stream",
          "name": "stdout",
          "text": [
            "Would you like to contribute to nebullvm continuous improvement? Press enter to share the performance achieved with nebullvm and \"No\" to not contribute. You can find full details in the \"Sharing feedback to improve nebullvm\" section of the documentation. [enter/\"No\"] \n"
          ]
        }
      ],
      "source": [
        "!pip install nebullvm\n",
        "import nebullvm"
      ]
    },
    {
      "cell_type": "code",
      "source": [
        "!git clone https://github.com/mikel-brostrom/Yolov5_StrongSORT_OSNet.git\n",
        "%cd Yolov5_StrongSORT_OSNet\n",
        "!pip install -r \"requirements.txt\""
      ],
      "metadata": {
        "colab": {
          "base_uri": "https://localhost:8080/"
        },
        "id": "uRcO_TKZWzk6",
        "outputId": "3de011cf-e592-414d-bfa1-0e08f2bfd9e6"
      },
      "execution_count": null,
      "outputs": [
        {
          "output_type": "stream",
          "name": "stdout",
          "text": [
            "fatal: destination path 'Yolov5_StrongSORT_OSNet' already exists and is not an empty directory.\n",
            "/content/Yolov5_StrongSORT_OSNet\n",
            "Looking in indexes: https://pypi.org/simple, https://us-python.pkg.dev/colab-wheels/public/simple/, https://pypi.ngc.nvidia.com\n",
            "Collecting git+https://github.com/samson-wang/cython_bbox.git@9badb346a9222c98f828ba45c63fe3b7f2790ea2 (from -r requirements.txt (line 40))\n",
            "  Cloning https://github.com/samson-wang/cython_bbox.git (to revision 9badb346a9222c98f828ba45c63fe3b7f2790ea2) to /tmp/pip-req-build-xr71nox3\n",
            "  Running command git clone --filter=blob:none --quiet https://github.com/samson-wang/cython_bbox.git /tmp/pip-req-build-xr71nox3\n",
            "  Running command git rev-parse -q --verify 'sha^9badb346a9222c98f828ba45c63fe3b7f2790ea2'\n",
            "  Running command git fetch -q https://github.com/samson-wang/cython_bbox.git 9badb346a9222c98f828ba45c63fe3b7f2790ea2\n",
            "  Running command git checkout -q 9badb346a9222c98f828ba45c63fe3b7f2790ea2\n",
            "  Resolved https://github.com/samson-wang/cython_bbox.git to commit 9badb346a9222c98f828ba45c63fe3b7f2790ea2\n",
            "  Preparing metadata (setup.py) ... \u001b[?25l\u001b[?25hdone\n",
            "Requirement already satisfied: matplotlib>=3.2.2 in /usr/local/lib/python3.7/dist-packages (from -r requirements.txt (line 4)) (3.2.2)\n",
            "Requirement already satisfied: numpy>=1.18.5 in /usr/local/lib/python3.7/dist-packages (from -r requirements.txt (line 5)) (1.21.6)\n",
            "Requirement already satisfied: opencv-python>=4.1.1 in /usr/local/lib/python3.7/dist-packages (from -r requirements.txt (line 6)) (4.6.0.66)\n",
            "Requirement already satisfied: Pillow>=7.1.2 in /usr/local/lib/python3.7/dist-packages (from -r requirements.txt (line 7)) (9.2.0)\n",
            "Requirement already satisfied: PyYAML>=5.3.1 in /usr/local/lib/python3.7/dist-packages (from -r requirements.txt (line 8)) (5.4.1)\n",
            "Requirement already satisfied: requests>=2.23.0 in /usr/local/lib/python3.7/dist-packages (from -r requirements.txt (line 9)) (2.28.1)\n",
            "Requirement already satisfied: scipy>=1.4.1 in /usr/local/lib/python3.7/dist-packages (from -r requirements.txt (line 10)) (1.7.3)\n",
            "Requirement already satisfied: torch>=1.7.0 in /usr/local/lib/python3.7/dist-packages (from -r requirements.txt (line 11)) (1.12.1+cu113)\n",
            "Requirement already satisfied: torchvision>=0.8.1 in /usr/local/lib/python3.7/dist-packages (from -r requirements.txt (line 12)) (0.13.1+cu113)\n",
            "Requirement already satisfied: tqdm>=4.64.0 in /usr/local/lib/python3.7/dist-packages (from -r requirements.txt (line 13)) (4.64.1)\n",
            "Requirement already satisfied: protobuf<=3.20.1 in /usr/local/lib/python3.7/dist-packages (from -r requirements.txt (line 14)) (3.20.1)\n",
            "Requirement already satisfied: pandas>=1.1.4 in /usr/local/lib/python3.7/dist-packages (from -r requirements.txt (line 18)) (1.1.5)\n",
            "Requirement already satisfied: seaborn>=0.11.0 in /usr/local/lib/python3.7/dist-packages (from -r requirements.txt (line 19)) (0.11.2)\n",
            "Requirement already satisfied: easydict in /usr/local/lib/python3.7/dist-packages (from -r requirements.txt (line 22)) (1.10)\n",
            "Requirement already satisfied: Cython in /usr/local/lib/python3.7/dist-packages (from -r requirements.txt (line 26)) (0.29.32)\n",
            "Requirement already satisfied: h5py in /usr/local/lib/python3.7/dist-packages (from -r requirements.txt (line 27)) (3.1.0)\n",
            "Requirement already satisfied: six in /usr/local/lib/python3.7/dist-packages (from -r requirements.txt (line 28)) (1.15.0)\n",
            "Requirement already satisfied: tb-nightly in /usr/local/lib/python3.7/dist-packages (from -r requirements.txt (line 29)) (2.11.0a20221027)\n",
            "Requirement already satisfied: future in /usr/local/lib/python3.7/dist-packages (from -r requirements.txt (line 30)) (0.16.0)\n",
            "Requirement already satisfied: yacs in /usr/local/lib/python3.7/dist-packages (from -r requirements.txt (line 31)) (0.1.8)\n",
            "Requirement already satisfied: gdown in /usr/local/lib/python3.7/dist-packages (from -r requirements.txt (line 32)) (4.4.0)\n",
            "Requirement already satisfied: flake8 in /usr/local/lib/python3.7/dist-packages (from -r requirements.txt (line 33)) (5.0.4)\n",
            "Requirement already satisfied: yapf in /usr/local/lib/python3.7/dist-packages (from -r requirements.txt (line 34)) (0.32.0)\n",
            "Requirement already satisfied: isort==4.3.21 in /usr/local/lib/python3.7/dist-packages (from -r requirements.txt (line 35)) (4.3.21)\n",
            "Requirement already satisfied: imageio in /usr/local/lib/python3.7/dist-packages (from -r requirements.txt (line 36)) (2.9.0)\n",
            "Requirement already satisfied: lap in /usr/local/lib/python3.7/dist-packages (from -r requirements.txt (line 39)) (0.4.0)\n",
            "Requirement already satisfied: filterpy in /usr/local/lib/python3.7/dist-packages (from -r requirements.txt (line 43)) (1.4.5)\n",
            "Requirement already satisfied: GitPython in /usr/local/lib/python3.7/dist-packages (from -r requirements.txt (line 46)) (3.1.29)\n",
            "Requirement already satisfied: cycler>=0.10 in /usr/local/lib/python3.7/dist-packages (from matplotlib>=3.2.2->-r requirements.txt (line 4)) (0.11.0)\n",
            "Requirement already satisfied: pyparsing!=2.0.4,!=2.1.2,!=2.1.6,>=2.0.1 in /usr/local/lib/python3.7/dist-packages (from matplotlib>=3.2.2->-r requirements.txt (line 4)) (3.0.9)\n",
            "Requirement already satisfied: kiwisolver>=1.0.1 in /usr/local/lib/python3.7/dist-packages (from matplotlib>=3.2.2->-r requirements.txt (line 4)) (1.4.4)\n",
            "Requirement already satisfied: python-dateutil>=2.1 in /usr/local/lib/python3.7/dist-packages (from matplotlib>=3.2.2->-r requirements.txt (line 4)) (2.8.2)\n",
            "Requirement already satisfied: certifi>=2017.4.17 in /usr/local/lib/python3.7/dist-packages (from requests>=2.23.0->-r requirements.txt (line 9)) (2022.9.24)\n",
            "Requirement already satisfied: idna<4,>=2.5 in /usr/local/lib/python3.7/dist-packages (from requests>=2.23.0->-r requirements.txt (line 9)) (2.10)\n",
            "Requirement already satisfied: urllib3<1.27,>=1.21.1 in /usr/local/lib/python3.7/dist-packages (from requests>=2.23.0->-r requirements.txt (line 9)) (1.26.12)\n",
            "Requirement already satisfied: charset-normalizer<3,>=2 in /usr/local/lib/python3.7/dist-packages (from requests>=2.23.0->-r requirements.txt (line 9)) (2.1.1)\n",
            "Requirement already satisfied: typing-extensions in /usr/local/lib/python3.7/dist-packages (from torch>=1.7.0->-r requirements.txt (line 11)) (4.1.1)\n",
            "Requirement already satisfied: pytz>=2017.2 in /usr/local/lib/python3.7/dist-packages (from pandas>=1.1.4->-r requirements.txt (line 18)) (2022.5)\n",
            "Requirement already satisfied: cached-property in /usr/local/lib/python3.7/dist-packages (from h5py->-r requirements.txt (line 27)) (1.5.2)\n",
            "Requirement already satisfied: google-auth<3,>=1.6.3 in /usr/local/lib/python3.7/dist-packages (from tb-nightly->-r requirements.txt (line 29)) (1.35.0)\n",
            "Requirement already satisfied: tensorboard-data-server<0.7.0,>=0.6.0 in /usr/local/lib/python3.7/dist-packages (from tb-nightly->-r requirements.txt (line 29)) (0.6.1)\n",
            "Requirement already satisfied: grpcio>=1.24.3 in /usr/local/lib/python3.7/dist-packages (from tb-nightly->-r requirements.txt (line 29)) (1.50.0)\n",
            "Requirement already satisfied: google-auth-oauthlib<0.5,>=0.4.1 in /usr/local/lib/python3.7/dist-packages (from tb-nightly->-r requirements.txt (line 29)) (0.4.6)\n",
            "Requirement already satisfied: setuptools>=41.0.0 in /usr/local/lib/python3.7/dist-packages (from tb-nightly->-r requirements.txt (line 29)) (65.5.0)\n",
            "Requirement already satisfied: wheel>=0.26 in /usr/local/lib/python3.7/dist-packages (from tb-nightly->-r requirements.txt (line 29)) (0.37.1)\n",
            "Requirement already satisfied: absl-py>=0.4 in /usr/local/lib/python3.7/dist-packages (from tb-nightly->-r requirements.txt (line 29)) (1.3.0)\n",
            "Requirement already satisfied: tensorboard-plugin-wit>=1.6.0 in /usr/local/lib/python3.7/dist-packages (from tb-nightly->-r requirements.txt (line 29)) (1.8.1)\n",
            "Requirement already satisfied: werkzeug>=1.0.1 in /usr/local/lib/python3.7/dist-packages (from tb-nightly->-r requirements.txt (line 29)) (1.0.1)\n",
            "Requirement already satisfied: markdown>=2.6.8 in /usr/local/lib/python3.7/dist-packages (from tb-nightly->-r requirements.txt (line 29)) (3.3.4)\n",
            "Requirement already satisfied: filelock in /usr/local/lib/python3.7/dist-packages (from gdown->-r requirements.txt (line 32)) (3.8.0)\n",
            "Requirement already satisfied: beautifulsoup4 in /usr/local/lib/python3.7/dist-packages (from gdown->-r requirements.txt (line 32)) (4.6.3)\n",
            "Requirement already satisfied: pyflakes<2.6.0,>=2.5.0 in /usr/local/lib/python3.7/dist-packages (from flake8->-r requirements.txt (line 33)) (2.5.0)\n",
            "Requirement already satisfied: pycodestyle<2.10.0,>=2.9.0 in /usr/local/lib/python3.7/dist-packages (from flake8->-r requirements.txt (line 33)) (2.9.1)\n",
            "Requirement already satisfied: importlib-metadata<4.3,>=1.1.0 in /usr/local/lib/python3.7/dist-packages (from flake8->-r requirements.txt (line 33)) (4.2.0)\n",
            "Requirement already satisfied: mccabe<0.8.0,>=0.7.0 in /usr/local/lib/python3.7/dist-packages (from flake8->-r requirements.txt (line 33)) (0.7.0)\n",
            "Requirement already satisfied: gitdb<5,>=4.0.1 in /usr/local/lib/python3.7/dist-packages (from GitPython->-r requirements.txt (line 46)) (4.0.9)\n",
            "Requirement already satisfied: smmap<6,>=3.0.1 in /usr/local/lib/python3.7/dist-packages (from gitdb<5,>=4.0.1->GitPython->-r requirements.txt (line 46)) (5.0.0)\n",
            "Requirement already satisfied: rsa<5,>=3.1.4 in /usr/local/lib/python3.7/dist-packages (from google-auth<3,>=1.6.3->tb-nightly->-r requirements.txt (line 29)) (4.9)\n",
            "Requirement already satisfied: pyasn1-modules>=0.2.1 in /usr/local/lib/python3.7/dist-packages (from google-auth<3,>=1.6.3->tb-nightly->-r requirements.txt (line 29)) (0.2.8)\n",
            "Requirement already satisfied: cachetools<5.0,>=2.0.0 in /usr/local/lib/python3.7/dist-packages (from google-auth<3,>=1.6.3->tb-nightly->-r requirements.txt (line 29)) (4.2.4)\n",
            "Requirement already satisfied: requests-oauthlib>=0.7.0 in /usr/local/lib/python3.7/dist-packages (from google-auth-oauthlib<0.5,>=0.4.1->tb-nightly->-r requirements.txt (line 29)) (1.3.1)\n",
            "Requirement already satisfied: zipp>=0.5 in /usr/local/lib/python3.7/dist-packages (from importlib-metadata<4.3,>=1.1.0->flake8->-r requirements.txt (line 33)) (3.9.0)\n",
            "Requirement already satisfied: PySocks!=1.5.7,>=1.5.6 in /usr/local/lib/python3.7/dist-packages (from requests>=2.23.0->-r requirements.txt (line 9)) (1.7.1)\n",
            "Requirement already satisfied: pyasn1<0.5.0,>=0.4.6 in /usr/local/lib/python3.7/dist-packages (from pyasn1-modules>=0.2.1->google-auth<3,>=1.6.3->tb-nightly->-r requirements.txt (line 29)) (0.4.8)\n",
            "Requirement already satisfied: oauthlib>=3.0.0 in /usr/local/lib/python3.7/dist-packages (from requests-oauthlib>=0.7.0->google-auth-oauthlib<0.5,>=0.4.1->tb-nightly->-r requirements.txt (line 29)) (3.2.2)\n",
            "\u001b[33mWARNING: Running pip as the 'root' user can result in broken permissions and conflicting behaviour with the system package manager. It is recommended to use a virtual environment instead: https://pip.pypa.io/warnings/venv\u001b[0m\u001b[33m\n",
            "\u001b[0m"
          ]
        }
      ]
    },
    {
      "cell_type": "code",
      "source": [
        "import logging\n",
        "from trackers.strong_sort.deep.models import build_model\n",
        "from trackers.strong_sort.deep.reid_model_factory import get_model_name, load_pretrained_weights"
      ],
      "metadata": {
        "id": "UoiMvrQPXVXR"
      },
      "execution_count": null,
      "outputs": []
    },
    {
      "cell_type": "code",
      "source": [
        "from pathlib import Path\n",
        "\n",
        "weights = Path(\"osnet_x0_25_msmt17.pt\")\n",
        "print(weights)\n",
        "device = 0"
      ],
      "metadata": {
        "colab": {
          "base_uri": "https://localhost:8080/"
        },
        "id": "SVWYtkBjXdPS",
        "outputId": "a210f8c8-2156-420e-d676-7b4c1cabdbf7"
      },
      "execution_count": null,
      "outputs": [
        {
          "output_type": "stream",
          "name": "stdout",
          "text": [
            "osnet_x0_25_msmt17.pt\n"
          ]
        }
      ]
    },
    {
      "cell_type": "code",
      "source": [
        "save_path = str(weights)\n",
        "!gdown 1sSwXSUlj4_tHZequ_iZ8w_Jh0VaRQMqF -O $save_path"
      ],
      "metadata": {
        "colab": {
          "base_uri": "https://localhost:8080/"
        },
        "id": "0ct9szZYcrjH",
        "outputId": "ca12513b-0181-430b-bc8d-9373f3f3163b"
      },
      "execution_count": null,
      "outputs": [
        {
          "output_type": "stream",
          "name": "stdout",
          "text": [
            "Downloading...\n",
            "From: https://drive.google.com/uc?id=1sSwXSUlj4_tHZequ_iZ8w_Jh0VaRQMqF\n",
            "To: /content/Yolov5_StrongSORT_OSNet/osnet_x0_25_msmt17.pt\n",
            "\r  0% 0.00/3.06M [00:00<?, ?B/s]\r100% 3.06M/3.06M [00:00<00:00, 152MB/s]\n"
          ]
        }
      ]
    },
    {
      "cell_type": "code",
      "source": [
        "model = build_model(\n",
        "        get_model_name(weights),\n",
        "        num_classes=1,\n",
        "        pretrained=not (weights and weights.is_file() and weights.suffix == '.pt'),\n",
        "        use_gpu=device\n",
        "    ).to(device)\n",
        "load_pretrained_weights(model, weights)"
      ],
      "metadata": {
        "colab": {
          "base_uri": "https://localhost:8080/"
        },
        "id": "WECoHqClcpYd",
        "outputId": "6a703e40-fb20-4610-9706-58adf1a213d5"
      },
      "execution_count": null,
      "outputs": [
        {
          "output_type": "stream",
          "name": "stdout",
          "text": [
            "Successfully loaded pretrained weights from \"osnet_x0_25_msmt17.pt\"\n",
            "** The following layers are discarded due to unmatched keys or layer size: ['classifier.weight', 'classifier.bias']\n"
          ]
        }
      ]
    },
    {
      "cell_type": "code",
      "source": [
        "model.eval()"
      ],
      "metadata": {
        "id": "JycPJF2SaAQ3"
      },
      "execution_count": null,
      "outputs": []
    },
    {
      "cell_type": "code",
      "source": [
        "import torch\n",
        "import torchvision.models as models\n",
        "from nebullvm.api.functions import optimize_model\n",
        "\n",
        "# Provide an input data for the model\n",
        "input_data = [((torch.randn(1, 3, 256, 128), ), torch.tensor([0])) for i in range(100)]\n",
        "\n",
        "# Run nebullvm optimization in one line of code\n",
        "optimized_model = optimize_model(\n",
        "    model, input_data=input_data, optimization_time=\"constrained\"\n",
        ")\n",
        "\n",
        "# Try the optimized model\n",
        "x = torch.randn(1, 3, 256, 128)\n",
        "res = optimized_model(x)"
      ],
      "metadata": {
        "colab": {
          "base_uri": "https://localhost:8080/"
        },
        "id": "rQzfSRywabul",
        "outputId": "d4f7b302-41c6-49fd-e323-ece640f77bc7"
      },
      "execution_count": null,
      "outputs": [
        {
          "output_type": "stream",
          "name": "stderr",
          "text": [
            "/usr/local/lib/python3.7/dist-packages/nebullvm/inference_learners/tvm.py:50: UserWarning: Not found any valid tvm installation. TVM will not be available in the following steps.\n",
            "  \"Not found any valid tvm installation. \"\n",
            "/usr/local/lib/python3.7/dist-packages/nebullvm/optimizers/blade_disc.py:43: UserWarning: No BladeDISC library detected. The BladeDISC Inference learner should not be used.\n",
            "  \"No BladeDISC library detected. \"\n",
            "2022-10-27 17:22:37 [INFO] Generating grammar tables from /usr/lib/python3.7/lib2to3/Grammar.txt\n",
            "2022-10-27 17:22:37 [INFO] Generating grammar tables from /usr/lib/python3.7/lib2to3/PatternGrammar.txt\n",
            "2022-10-27 17:23:13 [INFO] Running pipeline: pytorch_pipeline\n",
            "[ INFO ]  Running pipeline: pytorch_pipeline\n",
            "2022-10-27 17:23:13 [INFO] Running step: no_compression\n",
            "[ INFO ]  Running step: no_compression\n",
            "2022-10-27 17:23:13 [INFO] Running step: optimizer_step\n",
            "[ INFO ]  Running step: optimizer_step\n",
            "2022-10-27 17:23:13 [INFO] Optimizations: ('torchscript', 'deepsparse', 'tensor RT', 'intel_neural_compressor')\n",
            "[ INFO ]  Optimizations: ('torchscript', 'deepsparse', 'tensor RT', 'intel_neural_compressor')\n",
            "  0%|          | 0/1 [00:00<?, ?it/s]2022-10-27 17:23:13 [INFO] Optimizing output of no_compression\n",
            "[ INFO ]  Optimizing output of no_compression\n",
            "\n",
            "  0%|          | 0/4 [00:00<?, ?it/s]\u001b[A2022-10-27 17:23:13 [INFO] Optimizing with PytorchBackendOptimizer and q_type: None.\n",
            "[ INFO ]  Optimizing with PytorchBackendOptimizer and q_type: None.\n",
            "\n",
            " 25%|██▌       | 1/4 [00:25<01:17, 25.96s/it]\u001b[A2022-10-27 17:23:39 [INFO] Optimizing with DeepSparseOptimizer and q_type: None.\n",
            "[ INFO ]  Optimizing with DeepSparseOptimizer and q_type: None.\n",
            "\n",
            " 50%|█████     | 2/4 [00:42<00:41, 20.59s/it]\u001b[A2022-10-27 17:23:56 [INFO] Optimizing with TensorRTOptimizer and q_type: None.\n",
            "[ INFO ]  Optimizing with TensorRTOptimizer and q_type: None.\n",
            "\n",
            " 75%|███████▌  | 3/4 [01:31<00:33, 33.51s/it]\u001b[A2022-10-27 17:24:44 [INFO] Optimizing with NeuralCompressorOptimizer and q_type: None.\n",
            "[ INFO ]  Optimizing with NeuralCompressorOptimizer and q_type: None.\n",
            "100%|██████████| 4/4 [01:31<00:00, 22.92s/it]\n",
            "100%|██████████| 1/1 [01:31<00:00, 91.72s/it]\n",
            "2022-10-27 17:24:44 [INFO] Running pipeline: onnx_pipeline\n",
            "[ INFO ]  Running pipeline: onnx_pipeline\n",
            "2022-10-27 17:24:45 [INFO] Running step: no_compression\n",
            "[ INFO ]  Running step: no_compression\n",
            "2022-10-27 17:24:45 [INFO] Running step: optimizer_step\n",
            "[ INFO ]  Running step: optimizer_step\n",
            "2022-10-27 17:24:46 [INFO] Optimizations: ('onnxruntime', 'openvino')\n",
            "[ INFO ]  Optimizations: ('onnxruntime', 'openvino')\n",
            "  0%|          | 0/1 [00:00<?, ?it/s]2022-10-27 17:24:46 [INFO] Optimizing output of no_compression\n",
            "[ INFO ]  Optimizing output of no_compression\n",
            "\n",
            "  0%|          | 0/2 [00:00<?, ?it/s]\u001b[A2022-10-27 17:24:46 [INFO] Optimizing with ONNXOptimizer and q_type: None.\n",
            "[ INFO ]  Optimizing with ONNXOptimizer and q_type: None.\n",
            "\n",
            " 50%|█████     | 1/2 [00:00<00:00,  1.11it/s]\u001b[A2022-10-27 17:24:47 [INFO] Optimizing with OpenVinoOptimizer and q_type: None.\n",
            "[ INFO ]  Optimizing with OpenVinoOptimizer and q_type: None.\n",
            "\n",
            "100%|██████████| 2/2 [00:03<00:00,  1.92s/it]\n",
            "100%|██████████| 1/1 [00:03<00:00,  3.85s/it]\n"
          ]
        }
      ]
    },
    {
      "cell_type": "code",
      "source": [
        "optimized_model"
      ],
      "metadata": {
        "colab": {
          "base_uri": "https://localhost:8080/"
        },
        "id": "mHDr9S5OcKbE",
        "outputId": "579a8c62-d043-4ab2-b1d8-dff3fdbcbc0d"
      },
      "execution_count": null,
      "outputs": [
        {
          "output_type": "execute_result",
          "data": {
            "text/plain": [
              "PytorchTensorRTInferenceLearner(network_parameters=ModelParams(batch_size=1, input_infos=[<nebullvm.base.InputInfo object at 0x7fd1c0ad7350>], output_sizes=[(512,)], dynamic_info=None), input_tfms=<nebullvm.transformations.base.MultiStageTransformation object at 0x7fd1ac79c0d0>)"
            ]
          },
          "metadata": {},
          "execution_count": 8
        }
      ]
    },
    {
      "cell_type": "code",
      "source": [
        "from nebullvm.utils.benchmark import benchmark\n",
        "\n",
        "input_data = [((torch.randn(1, 3, 256, 128).to(device), ), torch.tensor([0])) for i in range(100)]\n",
        "model.to(device)\n",
        "model.eval()\n",
        "\n",
        "print(\"Original model:\")\n",
        "benchmark(model, input_data)\n",
        "print(\"Optimized model:\")\n",
        "benchmark(optimized_model, input_data)"
      ],
      "metadata": {
        "colab": {
          "base_uri": "https://localhost:8080/"
        },
        "id": "E0N6ZGTQbA0S",
        "outputId": "ad681246-6ab0-4512-bb85-b89e85ed8a50"
      },
      "execution_count": null,
      "outputs": [
        {
          "output_type": "stream",
          "name": "stdout",
          "text": [
            "Original model:\n"
          ]
        },
        {
          "output_type": "stream",
          "name": "stderr",
          "text": [
            "Performing warm up on 50 iterations: 100%|██████████| 50/50 [00:00<00:00, 54.75it/s]\n",
            "Performing benchmark on 1000 iterations: 100%|██████████| 1000/1000 [00:17<00:00, 56.83it/s]\n"
          ]
        },
        {
          "output_type": "stream",
          "name": "stdout",
          "text": [
            "Input shapes: [torch.Size([1, 3, 256, 128])]\n",
            "Output features shapes: [torch.Size([512])]\n",
            "Batch size: 1\n",
            "Average Throughput: 57.57 data/second\n",
            "Average Latency: 0.0174 seconds/data\n",
            "Optimized model:\n"
          ]
        },
        {
          "output_type": "stream",
          "name": "stderr",
          "text": [
            "Performing warm up on 50 iterations: 100%|██████████| 50/50 [00:00<00:00, 405.09it/s]\n",
            "Performing benchmark on 1000 iterations: 100%|██████████| 1000/1000 [00:02<00:00, 412.11it/s]"
          ]
        },
        {
          "output_type": "stream",
          "name": "stdout",
          "text": [
            "Input shapes: [torch.Size([1, 3, 256, 128])]\n",
            "Output features shapes: [torch.Size([512])]\n",
            "Batch size: 1\n",
            "Average Throughput: 417.44 data/second\n",
            "Average Latency: 0.0024 seconds/data\n"
          ]
        },
        {
          "output_type": "stream",
          "name": "stderr",
          "text": [
            "\n"
          ]
        }
      ]
    },
    {
      "cell_type": "code",
      "source": [
        "417.44 / 57.57"
      ],
      "metadata": {
        "colab": {
          "base_uri": "https://localhost:8080/"
        },
        "id": "DPgahhhQe3wd",
        "outputId": "b0580911-5afa-40b9-8d59-b398fbcdb053"
      },
      "execution_count": null,
      "outputs": [
        {
          "output_type": "execute_result",
          "data": {
            "text/plain": [
              "7.250998784088935"
            ]
          },
          "metadata": {},
          "execution_count": 18
        }
      ]
    },
    {
      "cell_type": "code",
      "source": [
        "x = torch.randn(1, 3, 256, 128).to(device)"
      ],
      "metadata": {
        "id": "A6ABaJHyb-s5"
      },
      "execution_count": null,
      "outputs": []
    },
    {
      "cell_type": "code",
      "source": [
        "model(x)"
      ],
      "metadata": {
        "colab": {
          "base_uri": "https://localhost:8080/"
        },
        "id": "b_wpXc8dbtj-",
        "outputId": "bf833bc6-8f2e-4f42-a849-6dce8c3710bd"
      },
      "execution_count": null,
      "outputs": [
        {
          "output_type": "execute_result",
          "data": {
            "text/plain": [
              "tensor([[1.2237e+00, 9.7114e-05, 0.0000e+00, 4.2943e-01, 7.2624e-01, 0.0000e+00,\n",
              "         2.1220e-01, 4.4440e-01, 3.7183e+00, 5.6927e-01, 1.6516e+00, 1.4993e+00,\n",
              "         1.1797e+00, 0.0000e+00, 3.9583e+00, 6.0503e-01, 0.0000e+00, 0.0000e+00,\n",
              "         4.4859e+00, 0.0000e+00, 0.0000e+00, 1.8873e+00, 3.7156e+00, 1.1181e+00,\n",
              "         0.0000e+00, 2.3676e+00, 0.0000e+00, 2.0051e+00, 4.1629e+00, 0.0000e+00,\n",
              "         1.5057e+00, 7.3302e-01, 5.4601e+00, 2.6476e+00, 6.2015e-01, 1.6396e-03,\n",
              "         5.3959e-04, 6.4037e-01, 1.6269e-01, 0.0000e+00, 0.0000e+00, 3.2138e+00,\n",
              "         5.2840e-03, 5.7302e-05, 4.9958e+00, 1.8143e-01, 0.0000e+00, 3.2019e+00,\n",
              "         3.0577e-02, 3.5341e-01, 0.0000e+00, 0.0000e+00, 2.5322e-02, 2.9643e+00,\n",
              "         3.5809e+00, 0.0000e+00, 5.6970e+00, 1.1512e-02, 0.0000e+00, 0.0000e+00,\n",
              "         0.0000e+00, 3.2844e+00, 0.0000e+00, 8.5125e-02, 0.0000e+00, 1.6879e+00,\n",
              "         0.0000e+00, 5.4610e-01, 1.2799e+00, 3.4771e-01, 0.0000e+00, 0.0000e+00,\n",
              "         2.1462e-02, 0.0000e+00, 0.0000e+00, 3.7361e+00, 1.4823e+00, 9.5484e-01,\n",
              "         1.3133e-01, 0.0000e+00, 8.8886e-01, 8.4829e-01, 0.0000e+00, 5.9302e-01,\n",
              "         1.9707e+00, 2.3207e-01, 4.1685e-04, 0.0000e+00, 2.4850e+00, 0.0000e+00,\n",
              "         0.0000e+00, 2.6880e-06, 2.9597e+00, 0.0000e+00, 2.2538e+00, 0.0000e+00,\n",
              "         0.0000e+00, 0.0000e+00, 1.4020e-01, 0.0000e+00, 4.8564e-01, 9.4903e-02,\n",
              "         1.6456e-05, 0.0000e+00, 3.4589e+00, 0.0000e+00, 1.6904e-02, 9.5792e-01,\n",
              "         0.0000e+00, 0.0000e+00, 3.0334e-01, 1.2132e-01, 1.7811e+00, 2.3062e+00,\n",
              "         0.0000e+00, 9.7845e-02, 0.0000e+00, 1.5043e+00, 7.1120e+00, 6.5457e-03,\n",
              "         1.6330e+00, 3.6452e-01, 0.0000e+00, 5.4182e-01, 0.0000e+00, 0.0000e+00,\n",
              "         2.5863e+00, 0.0000e+00, 4.1809e-01, 2.8891e+00, 0.0000e+00, 0.0000e+00,\n",
              "         0.0000e+00, 0.0000e+00, 8.3978e-01, 0.0000e+00, 0.0000e+00, 0.0000e+00,\n",
              "         5.6223e-02, 0.0000e+00, 2.4487e+00, 0.0000e+00, 1.9237e+00, 0.0000e+00,\n",
              "         0.0000e+00, 1.2630e+00, 5.1992e-01, 3.2636e+00, 2.1070e+00, 0.0000e+00,\n",
              "         1.8980e+00, 9.5479e-01, 1.1756e+00, 1.9744e-03, 9.5845e-05, 0.0000e+00,\n",
              "         2.8589e+00, 0.0000e+00, 2.1303e+00, 9.8007e-01, 1.5353e-01, 1.4802e+00,\n",
              "         1.2456e+00, 0.0000e+00, 2.4757e-01, 3.4247e-03, 2.6999e+00, 2.9494e+00,\n",
              "         0.0000e+00, 6.6698e-01, 0.0000e+00, 6.7572e-01, 2.3243e-02, 5.0792e-01,\n",
              "         0.0000e+00, 6.5707e-01, 2.0178e-01, 0.0000e+00, 1.7052e+00, 0.0000e+00,\n",
              "         1.7273e+00, 3.4908e-06, 7.7201e-06, 0.0000e+00, 6.0054e+00, 0.0000e+00,\n",
              "         1.7438e+00, 1.8882e+00, 7.4033e-01, 0.0000e+00, 7.1809e-02, 0.0000e+00,\n",
              "         2.1744e+00, 0.0000e+00, 0.0000e+00, 1.8721e+00, 7.3169e+00, 0.0000e+00,\n",
              "         4.0676e-06, 2.6514e+00, 0.0000e+00, 0.0000e+00, 0.0000e+00, 0.0000e+00,\n",
              "         1.5424e-05, 0.0000e+00, 1.4309e-01, 8.3416e-02, 5.2958e-01, 0.0000e+00,\n",
              "         1.0383e-01, 8.3758e-01, 0.0000e+00, 0.0000e+00, 0.0000e+00, 0.0000e+00,\n",
              "         2.3853e+00, 0.0000e+00, 1.1778e-03, 0.0000e+00, 0.0000e+00, 2.7198e-01,\n",
              "         2.6750e-05, 1.0670e-01, 2.8046e-01, 0.0000e+00, 0.0000e+00, 3.1975e+00,\n",
              "         1.3550e-03, 0.0000e+00, 6.4520e-01, 9.9623e-01, 9.7213e-06, 0.0000e+00,\n",
              "         5.8073e+00, 0.0000e+00, 0.0000e+00, 0.0000e+00, 4.3609e+00, 6.2796e-02,\n",
              "         4.8095e-05, 9.5012e-01, 0.0000e+00, 2.1617e+00, 0.0000e+00, 0.0000e+00,\n",
              "         1.3618e-03, 0.0000e+00, 2.6183e-01, 5.0021e-01, 0.0000e+00, 6.2432e+00,\n",
              "         2.1149e-01, 2.3458e-01, 2.1726e-06, 8.9255e-05, 4.2268e+00, 0.0000e+00,\n",
              "         0.0000e+00, 0.0000e+00, 5.6154e-03, 0.0000e+00, 1.0333e+00, 0.0000e+00,\n",
              "         0.0000e+00, 0.0000e+00, 2.7624e-02, 0.0000e+00, 0.0000e+00, 4.7101e+00,\n",
              "         1.4270e+00, 1.8795e+00, 0.0000e+00, 0.0000e+00, 3.9916e+00, 1.3844e+00,\n",
              "         1.6160e+00, 0.0000e+00, 4.0858e-04, 0.0000e+00, 5.6193e-01, 0.0000e+00,\n",
              "         5.8140e-01, 1.8022e-02, 0.0000e+00, 1.2035e+00, 8.3126e-01, 0.0000e+00,\n",
              "         0.0000e+00, 0.0000e+00, 0.0000e+00, 0.0000e+00, 0.0000e+00, 2.8367e-01,\n",
              "         1.3277e+00, 0.0000e+00, 0.0000e+00, 5.9024e-01, 1.5612e+00, 0.0000e+00,\n",
              "         5.3606e+00, 4.6835e-03, 0.0000e+00, 5.2981e-01, 3.5371e+00, 1.3329e+00,\n",
              "         3.4615e-01, 3.5992e-01, 1.3876e-02, 6.2031e-01, 0.0000e+00, 0.0000e+00,\n",
              "         4.4637e+00, 1.1699e-02, 1.9426e+00, 0.0000e+00, 7.1521e-06, 0.0000e+00,\n",
              "         0.0000e+00, 4.5646e-04, 6.1998e-04, 3.3080e-06, 0.0000e+00, 0.0000e+00,\n",
              "         2.2500e+00, 6.1889e-02, 0.0000e+00, 2.0895e+00, 1.9146e+00, 0.0000e+00,\n",
              "         2.2040e+00, 1.0047e-01, 1.9570e-04, 0.0000e+00, 5.5413e-05, 8.9642e-03,\n",
              "         3.3333e-01, 1.2558e+00, 5.1674e+00, 5.7951e-01, 0.0000e+00, 0.0000e+00,\n",
              "         1.0699e-06, 1.8164e+00, 8.9123e-01, 0.0000e+00, 3.1064e-02, 0.0000e+00,\n",
              "         2.1308e-03, 0.0000e+00, 3.6297e-01, 0.0000e+00, 0.0000e+00, 0.0000e+00,\n",
              "         7.5470e-01, 0.0000e+00, 0.0000e+00, 0.0000e+00, 1.2422e+00, 0.0000e+00,\n",
              "         3.0309e+00, 0.0000e+00, 4.6967e-01, 9.3044e-01, 3.1220e-01, 9.0683e-01,\n",
              "         1.8997e+00, 0.0000e+00, 1.3362e+00, 0.0000e+00, 5.7425e-01, 1.7444e-01,\n",
              "         4.2068e+00, 1.8518e-01, 0.0000e+00, 0.0000e+00, 0.0000e+00, 3.3378e-01,\n",
              "         1.1421e+00, 0.0000e+00, 0.0000e+00, 1.5312e-02, 9.9474e-01, 0.0000e+00,\n",
              "         0.0000e+00, 9.9166e-01, 0.0000e+00, 1.9198e+00, 3.4357e+00, 0.0000e+00,\n",
              "         3.3392e-01, 0.0000e+00, 0.0000e+00, 0.0000e+00, 2.9015e+00, 0.0000e+00,\n",
              "         6.4042e-01, 1.5334e+00, 7.8023e+00, 1.8927e+00, 2.4842e+00, 2.0926e+00,\n",
              "         6.7790e-01, 0.0000e+00, 3.1509e+00, 3.0180e-02, 5.4443e-05, 2.5042e-01,\n",
              "         4.9218e+00, 0.0000e+00, 1.9517e+00, 5.5968e+00, 0.0000e+00, 6.3310e-04,\n",
              "         0.0000e+00, 0.0000e+00, 1.3871e+00, 5.4324e+00, 4.4778e-02, 2.5715e+00,\n",
              "         1.6160e-03, 0.0000e+00, 2.5505e-03, 0.0000e+00, 1.3263e-03, 5.3635e-01,\n",
              "         1.5842e+00, 4.7422e-01, 0.0000e+00, 0.0000e+00, 4.0701e-01, 0.0000e+00,\n",
              "         0.0000e+00, 1.4797e+00, 0.0000e+00, 0.0000e+00, 0.0000e+00, 1.7267e-02,\n",
              "         1.3918e-03, 3.3277e-05, 9.1179e-03, 5.9180e-01, 3.8450e-05, 7.1821e-02,\n",
              "         1.6215e+00, 1.2183e-02, 2.0152e+00, 1.3209e-06, 2.3655e+00, 8.9807e-01,\n",
              "         0.0000e+00, 2.6902e+00, 5.2850e-04, 3.4218e-01, 2.1122e-02, 0.0000e+00,\n",
              "         5.6360e-01, 2.5147e+00, 0.0000e+00, 0.0000e+00, 0.0000e+00, 0.0000e+00,\n",
              "         0.0000e+00, 0.0000e+00, 2.0616e-03, 0.0000e+00, 1.6802e+00, 9.6499e-01,\n",
              "         5.8168e-06, 5.7749e+00, 1.3909e+00, 3.8973e+00, 2.7838e+00, 5.6537e-02,\n",
              "         2.6422e-05, 2.7846e+00, 0.0000e+00, 0.0000e+00, 0.0000e+00, 0.0000e+00,\n",
              "         1.3974e+00, 0.0000e+00, 1.3276e+00, 4.4948e+00, 9.6756e-01, 0.0000e+00,\n",
              "         0.0000e+00, 6.7784e-01, 1.4939e-01, 1.8055e-01, 5.1458e-01, 1.1209e+00,\n",
              "         5.1778e+00, 0.0000e+00, 1.0624e+00, 0.0000e+00, 0.0000e+00, 2.5811e-03,\n",
              "         1.5157e+00, 0.0000e+00, 0.0000e+00, 0.0000e+00, 2.9659e-03, 0.0000e+00,\n",
              "         0.0000e+00, 3.8449e-01, 0.0000e+00, 2.1039e-01, 1.0038e-01, 1.0348e+00,\n",
              "         1.0636e-01, 0.0000e+00]], device='cuda:0', grad_fn=<ReluBackward0>)"
            ]
          },
          "metadata": {},
          "execution_count": 16
        }
      ]
    },
    {
      "cell_type": "code",
      "source": [
        "optimized_model(x)"
      ],
      "metadata": {
        "colab": {
          "base_uri": "https://localhost:8080/"
        },
        "id": "reW5pkPicCDF",
        "outputId": "7fdc2223-8c11-43ee-f1b1-c858a8f79449"
      },
      "execution_count": null,
      "outputs": [
        {
          "output_type": "execute_result",
          "data": {
            "text/plain": [
              "(tensor([[1.2237e+00, 9.7116e-05, 0.0000e+00, 4.2944e-01, 7.2623e-01, 0.0000e+00,\n",
              "          2.1220e-01, 4.4437e-01, 3.7184e+00, 5.6928e-01, 1.6516e+00, 1.4993e+00,\n",
              "          1.1798e+00, 0.0000e+00, 3.9583e+00, 6.0504e-01, 0.0000e+00, 0.0000e+00,\n",
              "          4.4859e+00, 0.0000e+00, 0.0000e+00, 1.8873e+00, 3.7157e+00, 1.1181e+00,\n",
              "          0.0000e+00, 2.3676e+00, 0.0000e+00, 2.0051e+00, 4.1629e+00, 0.0000e+00,\n",
              "          1.5057e+00, 7.3292e-01, 5.4601e+00, 2.6477e+00, 6.2021e-01, 1.6395e-03,\n",
              "          5.3959e-04, 6.4037e-01, 1.6270e-01, 0.0000e+00, 0.0000e+00, 3.2138e+00,\n",
              "          5.2837e-03, 5.7302e-05, 4.9958e+00, 1.8146e-01, 0.0000e+00, 3.2019e+00,\n",
              "          3.0577e-02, 3.5342e-01, 0.0000e+00, 0.0000e+00, 2.5322e-02, 2.9643e+00,\n",
              "          3.5809e+00, 0.0000e+00, 5.6971e+00, 1.1446e-02, 0.0000e+00, 0.0000e+00,\n",
              "          0.0000e+00, 3.2845e+00, 0.0000e+00, 8.5125e-02, 0.0000e+00, 1.6879e+00,\n",
              "          0.0000e+00, 5.4612e-01, 1.2799e+00, 3.4770e-01, 0.0000e+00, 0.0000e+00,\n",
              "          2.1462e-02, 0.0000e+00, 0.0000e+00, 3.7361e+00, 1.4823e+00, 9.5483e-01,\n",
              "          1.3135e-01, 0.0000e+00, 8.8887e-01, 8.4829e-01, 0.0000e+00, 5.9303e-01,\n",
              "          1.9707e+00, 2.3207e-01, 4.1685e-04, 0.0000e+00, 2.4850e+00, 0.0000e+00,\n",
              "          0.0000e+00, 2.6879e-06, 2.9598e+00, 0.0000e+00, 2.2539e+00, 0.0000e+00,\n",
              "          0.0000e+00, 0.0000e+00, 1.4021e-01, 0.0000e+00, 4.8564e-01, 9.4902e-02,\n",
              "          1.6456e-05, 0.0000e+00, 3.4589e+00, 0.0000e+00, 1.6903e-02, 9.5796e-01,\n",
              "          0.0000e+00, 0.0000e+00, 3.0337e-01, 1.2135e-01, 1.7811e+00, 2.3062e+00,\n",
              "          0.0000e+00, 9.7844e-02, 0.0000e+00, 1.5043e+00, 7.1121e+00, 6.5458e-03,\n",
              "          1.6330e+00, 3.6451e-01, 0.0000e+00, 5.4180e-01, 0.0000e+00, 0.0000e+00,\n",
              "          2.5863e+00, 0.0000e+00, 4.1810e-01, 2.8892e+00, 0.0000e+00, 0.0000e+00,\n",
              "          0.0000e+00, 0.0000e+00, 8.3976e-01, 0.0000e+00, 0.0000e+00, 0.0000e+00,\n",
              "          5.6216e-02, 0.0000e+00, 2.4487e+00, 0.0000e+00, 1.9237e+00, 0.0000e+00,\n",
              "          0.0000e+00, 1.2630e+00, 5.1993e-01, 3.2637e+00, 2.1070e+00, 0.0000e+00,\n",
              "          1.8980e+00, 9.5480e-01, 1.1756e+00, 1.9743e-03, 9.5845e-05, 0.0000e+00,\n",
              "          2.8589e+00, 0.0000e+00, 2.1303e+00, 9.8010e-01, 1.5353e-01, 1.4802e+00,\n",
              "          1.2457e+00, 0.0000e+00, 2.4754e-01, 3.4247e-03, 2.7000e+00, 2.9495e+00,\n",
              "          0.0000e+00, 6.6699e-01, 0.0000e+00, 6.7569e-01, 2.3243e-02, 5.0793e-01,\n",
              "          0.0000e+00, 6.5708e-01, 2.0179e-01, 0.0000e+00, 1.7052e+00, 0.0000e+00,\n",
              "          1.7273e+00, 3.4908e-06, 7.7201e-06, 0.0000e+00, 6.0054e+00, 0.0000e+00,\n",
              "          1.7438e+00, 1.8881e+00, 7.4033e-01, 0.0000e+00, 7.1832e-02, 0.0000e+00,\n",
              "          2.1743e+00, 0.0000e+00, 0.0000e+00, 1.8721e+00, 7.3170e+00, 0.0000e+00,\n",
              "          4.0678e-06, 2.6514e+00, 0.0000e+00, 0.0000e+00, 0.0000e+00, 0.0000e+00,\n",
              "          1.5424e-05, 0.0000e+00, 1.4307e-01, 8.3417e-02, 5.2964e-01, 0.0000e+00,\n",
              "          1.0379e-01, 8.3759e-01, 0.0000e+00, 0.0000e+00, 0.0000e+00, 0.0000e+00,\n",
              "          2.3853e+00, 0.0000e+00, 1.1779e-03, 0.0000e+00, 0.0000e+00, 2.7197e-01,\n",
              "          2.6750e-05, 1.0670e-01, 2.8048e-01, 0.0000e+00, 0.0000e+00, 3.1975e+00,\n",
              "          1.3550e-03, 0.0000e+00, 6.4520e-01, 9.9628e-01, 9.7213e-06, 0.0000e+00,\n",
              "          5.8075e+00, 0.0000e+00, 0.0000e+00, 0.0000e+00, 4.3609e+00, 6.2856e-02,\n",
              "          4.8095e-05, 9.5005e-01, 0.0000e+00, 2.1617e+00, 0.0000e+00, 0.0000e+00,\n",
              "          1.3618e-03, 0.0000e+00, 2.6181e-01, 5.0018e-01, 0.0000e+00, 6.2432e+00,\n",
              "          2.1146e-01, 2.3458e-01, 2.1726e-06, 8.9256e-05, 4.2270e+00, 0.0000e+00,\n",
              "          0.0000e+00, 0.0000e+00, 5.6154e-03, 0.0000e+00, 1.0333e+00, 0.0000e+00,\n",
              "          0.0000e+00, 0.0000e+00, 2.7639e-02, 0.0000e+00, 0.0000e+00, 4.7101e+00,\n",
              "          1.4270e+00, 1.8795e+00, 0.0000e+00, 0.0000e+00, 3.9916e+00, 1.3844e+00,\n",
              "          1.6159e+00, 0.0000e+00, 4.0858e-04, 0.0000e+00, 5.6195e-01, 0.0000e+00,\n",
              "          5.8142e-01, 1.8021e-02, 0.0000e+00, 1.2035e+00, 8.3124e-01, 0.0000e+00,\n",
              "          0.0000e+00, 0.0000e+00, 0.0000e+00, 0.0000e+00, 0.0000e+00, 2.8367e-01,\n",
              "          1.3277e+00, 0.0000e+00, 0.0000e+00, 5.9026e-01, 1.5612e+00, 0.0000e+00,\n",
              "          5.3607e+00, 4.6835e-03, 0.0000e+00, 5.2980e-01, 3.5371e+00, 1.3329e+00,\n",
              "          3.4616e-01, 3.5992e-01, 1.3876e-02, 6.2031e-01, 0.0000e+00, 0.0000e+00,\n",
              "          4.4638e+00, 1.1699e-02, 1.9427e+00, 0.0000e+00, 7.1521e-06, 0.0000e+00,\n",
              "          0.0000e+00, 4.5646e-04, 6.1998e-04, 3.3080e-06, 0.0000e+00, 0.0000e+00,\n",
              "          2.2499e+00, 6.1888e-02, 0.0000e+00, 2.0895e+00, 1.9146e+00, 0.0000e+00,\n",
              "          2.2041e+00, 1.0048e-01, 1.9569e-04, 0.0000e+00, 5.5413e-05, 8.9674e-03,\n",
              "          3.3334e-01, 1.2558e+00, 5.1674e+00, 5.7952e-01, 0.0000e+00, 0.0000e+00,\n",
              "          1.0699e-06, 1.8164e+00, 8.9126e-01, 0.0000e+00, 3.1051e-02, 0.0000e+00,\n",
              "          2.1307e-03, 0.0000e+00, 3.6300e-01, 0.0000e+00, 0.0000e+00, 0.0000e+00,\n",
              "          7.5475e-01, 0.0000e+00, 0.0000e+00, 0.0000e+00, 1.2423e+00, 0.0000e+00,\n",
              "          3.0309e+00, 0.0000e+00, 4.6964e-01, 9.3040e-01, 3.1219e-01, 9.0684e-01,\n",
              "          1.8996e+00, 0.0000e+00, 1.3362e+00, 0.0000e+00, 5.7426e-01, 1.7444e-01,\n",
              "          4.2067e+00, 1.8508e-01, 0.0000e+00, 0.0000e+00, 0.0000e+00, 3.3378e-01,\n",
              "          1.1422e+00, 0.0000e+00, 0.0000e+00, 1.5302e-02, 9.9473e-01, 0.0000e+00,\n",
              "          0.0000e+00, 9.9168e-01, 0.0000e+00, 1.9198e+00, 3.4358e+00, 0.0000e+00,\n",
              "          3.3392e-01, 0.0000e+00, 0.0000e+00, 0.0000e+00, 2.9016e+00, 0.0000e+00,\n",
              "          6.4044e-01, 1.5334e+00, 7.8023e+00, 1.8927e+00, 2.4842e+00, 2.0927e+00,\n",
              "          6.7790e-01, 0.0000e+00, 3.1509e+00, 3.0180e-02, 5.4443e-05, 2.5041e-01,\n",
              "          4.9218e+00, 0.0000e+00, 1.9517e+00, 5.5968e+00, 0.0000e+00, 6.3310e-04,\n",
              "          0.0000e+00, 0.0000e+00, 1.3871e+00, 5.4325e+00, 4.4778e-02, 2.5715e+00,\n",
              "          1.6158e-03, 0.0000e+00, 2.5505e-03, 0.0000e+00, 1.3262e-03, 5.3637e-01,\n",
              "          1.5842e+00, 4.7424e-01, 0.0000e+00, 0.0000e+00, 4.0698e-01, 0.0000e+00,\n",
              "          0.0000e+00, 1.4797e+00, 0.0000e+00, 0.0000e+00, 0.0000e+00, 1.7255e-02,\n",
              "          1.3918e-03, 3.3277e-05, 9.1178e-03, 5.9181e-01, 3.8450e-05, 7.1821e-02,\n",
              "          1.6215e+00, 1.2183e-02, 2.0152e+00, 1.3209e-06, 2.3655e+00, 8.9805e-01,\n",
              "          0.0000e+00, 2.6902e+00, 5.2850e-04, 3.4222e-01, 2.1121e-02, 0.0000e+00,\n",
              "          5.6359e-01, 2.5147e+00, 0.0000e+00, 0.0000e+00, 0.0000e+00, 0.0000e+00,\n",
              "          0.0000e+00, 0.0000e+00, 2.0616e-03, 0.0000e+00, 1.6801e+00, 9.6500e-01,\n",
              "          5.8168e-06, 5.7750e+00, 1.3909e+00, 3.8973e+00, 2.7838e+00, 5.6536e-02,\n",
              "          2.6421e-05, 2.7846e+00, 0.0000e+00, 0.0000e+00, 0.0000e+00, 0.0000e+00,\n",
              "          1.3974e+00, 0.0000e+00, 1.3277e+00, 4.4949e+00, 9.6752e-01, 0.0000e+00,\n",
              "          0.0000e+00, 6.7783e-01, 1.4938e-01, 1.8055e-01, 5.1461e-01, 1.1209e+00,\n",
              "          5.1777e+00, 0.0000e+00, 1.0624e+00, 0.0000e+00, 0.0000e+00, 2.5816e-03,\n",
              "          1.5157e+00, 0.0000e+00, 0.0000e+00, 0.0000e+00, 2.9659e-03, 0.0000e+00,\n",
              "          0.0000e+00, 3.8449e-01, 0.0000e+00, 2.1041e-01, 1.0038e-01, 1.0348e+00,\n",
              "          1.0635e-01, 0.0000e+00]], device='cuda:0'),)"
            ]
          },
          "metadata": {},
          "execution_count": 17
        }
      ]
    },
    {
      "cell_type": "code",
      "source": [],
      "metadata": {
        "id": "ZDE4oFOccECn"
      },
      "execution_count": null,
      "outputs": []
    }
  ]
}